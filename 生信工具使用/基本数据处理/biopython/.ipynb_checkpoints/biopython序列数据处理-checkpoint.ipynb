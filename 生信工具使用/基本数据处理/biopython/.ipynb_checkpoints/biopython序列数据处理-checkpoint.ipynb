{
 "cells": [
  {
   "cell_type": "markdown",
   "metadata": {},
   "source": [
    "# biopython\n",
    "- [biopython中文文档-2020年版本](https://biopython-cn.readthedocs.io/zh_CN/latest/cn/chr02.html)\n",
    "- [biopython官方文档](https://biopython.org/wiki/Documentation)\n",
    "\n",
    "可以干什么？\n",
    "\n",
    "1. 读入并解析各类序列数据或者比对结果。用于后续的操作\n",
    "2. 连接生物学相关的数据库\n",
    "\n",
    "可以干很多[Cool things](http://biopython.org/DIST/docs/tutorial/Tutorial.html#sec370)\n",
    "\n",
    "## 序列数据处理\n",
    "### 序列数据的读入\n",
    "常见的序列文件的存储格式有：\n",
    "\n",
    "- fasta\n",
    "- GenBank\n",
    "\n",
    "在`Biopython`中可以通过`Bio.SeqIO`来读入并用于后续处理。[关于可以支持解析的数据](https://biopython.org/wiki/SeqIO)\n",
    "\n",
    "而对于序列比对的结果则可以通过`Bio.AlignIO`来读入并用于后续处理"
   ]
  },
  {
   "cell_type": "markdown",
   "metadata": {},
   "source": [
    "#### `SeqIO`读取数据\n",
    "\n",
    "`Bio.SeqIO`读入的数据是一个**迭代器**`Bio.SeqIO.FastaIO.FastaIterator`类型。\n",
    "\n",
    "如果需要全部读入可以通过使用`list()`来获取"
   ]
  },
  {
   "cell_type": "code",
   "execution_count": 10,
   "metadata": {},
   "outputs": [
    {
     "name": "stdout",
     "output_type": "stream",
     "text": [
      "解析后的数据的类型：<class 'Bio.SeqIO.FastaIO.FastaIterator'>\n",
      "gi|350999290|gb|JF797156.1|\n",
      "CGGCTTATATAGGTGAATCCATGGAGGGTCATCATTGACTAACTTTCGAAATAGTTTTTTTTAAGCTTATCCCAATTCAAGCAATGCAGGGTTCAATATAATCCACAGGGTTGTAGAAGAAAATGCAAATAGCTACAAATATGTATCTATTGTATATATGAATAAAGATAGATGATATTGCAGAGTTTGGAATAGAAAGAAGGGTTGGGGGGTCCTACTATATATATGTAATGTCTATGAGTATCAGTCCTTGTGTATGTTTCGAAGAATGGTTCCAGAATACGATTTAATAGTTAATAGAATAAAAAGTGCAGGTGGTTTACGTTATGGAAGAAACAAAAGTATATGTTATTTACTAGTTAGATAGGAATTATCCCTATCTCTTTTTTTCTAGCCAACTTCATTTATATGGATTACAATATCAGTCCTTTTTCTATTTTTTCTGTGATTGTTAATTGAATGAAAGAATAGAAGAGTTTATAAACAAGAAAACACAATGACTAAAACCGTTTACATAAAACTCCATCATGGGTAGAAAGAAAGGAAAAACGGTATACGGTATATGGAAGTAGTTCTGAAAATTCAATAATATTCTGTTGGAGTTTTTAGCTACTTCGACCCGATAGATTTTAGTGATAAGGGTCAATCAAAAAGAAAATAAATAAAAAAATAAGTAAGTAAAATAAGTTTAAGTAAAGTAAAAAAGTAGTGTAGTAAAGTAAATAGTCAAAGTAAAAGTAGAAGTATAAAAAGAAGTAGATAAAGATTAAGTAGTAATTCATTGGTTGGTTGTATCATTAACCATTTCTTTCTTTTGGACGAGGAAAT\n",
      "gi|350999290|gb|JF797156.1|\n",
      "CGGCTTATATAGGTGAATCCATGGAGGGTCATCATTGACTAACTTTCGAAATAGTTTTTTTTAAGCTTATCCCAATTCAAGCAATGCAGGGTTCAATATAATCCACAGGGTTGTAGAAGAAAATGCAAATAGCTACAAATATGTATCTATTGTATATATGAATAAAGATAGATGATATTGCAGAGTTTGGAATAGAAAGAAGGGTTGGGGGGTCCTACTATATATATGTAATGTCTATGAGTATCAGTCCTTGTGTATGTTTCGAAGAATGGTTCCAGAATACGATTTAATAGTTAATAGAATAAAAAGTGCAGGTGGTTTACGTTATGGAAGAAACAAAAGTATATGTTATTTACTAGTTAGATAGGAATTATCCCTATCTCTTTTTTTCTAGCCAACTTCATTTATATGGATTACAATATCAGTCCTTTTTCTATTTTTTCTGTGATTGTTAATTGAATGAAAGAATAGAAGAGTTTATAAACAAGAAAACACAATGACTAAAACCGTTTACATAAAACTCCATCATGGGTAGAAAGAAAGGAAAAACGGTATACGGTATATGGAAGTAGTTCTGAAAATTCAATAATATTCTGTTGGAGTTTTTAGCTACTTCGACCCGATAGATTTTAGTGATAAGGGTCAATCAAAAAGAAAATAAATAAAAAAATAAGTAAGTAAAATAAGTTTAAGTAAAGTAAAAAAGTAGTGTAGTAAAGTAAATAGTCAAAGTAAAAGTAGAAGTATAAAAAGAAGTAGATAAAGATTAAGTAGTAATTCATTGGTTGGTTGTATCATTAACCATTTCTTTCTTTTGGACGAGGAAAT\n"
     ]
    }
   ],
   "source": [
    "from Bio import SeqIO\n",
    "records = SeqIO.parse(\"Cypripedium_japonicum.fasta\",\"fasta\")\n",
    "print(f\"解析后的数据的类型：{type(records)}\")\n",
    "\n",
    "#循环读取\n",
    "for record in SeqIO.parse(\"Cypripedium_japonicum.fasta\",\"fasta\"):\n",
    "    print(record.id)\n",
    "    print(record.seq)\n",
    "    break\n",
    "\n",
    "#一次性读入\n",
    "records = list(SeqIO.parse(\"Cypripedium_japonicum.fasta\",\"fasta\"))\n",
    "print(records[0].id)\n",
    "print(records[0].seq)"
   ]
  },
  {
   "cell_type": "code",
   "execution_count": 15,
   "metadata": {},
   "outputs": [
    {
     "data": {
      "text/plain": [
       "Bio.SeqRecord.SeqRecord"
      ]
     },
     "execution_count": 15,
     "metadata": {},
     "output_type": "execute_result"
    }
   ],
   "source": []
  },
  {
   "cell_type": "markdown",
   "metadata": {},
   "source": [
    "## 序列\n",
    "\n",
    "Biopython读入后得到的序列是`Bio.SeqRecord.SeqRecord`。相关的[api](https://biopython.org/docs/latest/api/Bio.SeqRecord.html)\n",
    "\n",
    "该类型下面可以调用的属性有\n",
    "- `id`\n",
    "- `seq`，得到的是`Bio.Seq.Seq`类型。 可以对它进行切片、索引。它具备`str`类型的绝大多数函数。**该类型是不可以修改其中的字符的**。并且具备一个字母表来说明这个序列是DNA还是RNA或者蛋白质。\n"
   ]
  },
  {
   "cell_type": "code",
   "execution_count": 21,
   "metadata": {},
   "outputs": [
    {
     "name": "stdout",
     "output_type": "stream",
     "text": [
      "<class 'Bio.SeqRecord.SeqRecord'>\n",
      "gi|350999290|gb|JF797156.1|\n",
      "CGGCTTATATAGGTGAATCCATGGAGGGTCATCATTGACTAACTTTCGAAATAGTTTTTTTTAAGCTTATCCCAATTCAAGCAATGCAGGGTTCAATATAATCCACAGGGTTGTAGAAGAAAATGCAAATAGCTACAAATATGTATCTATTGTATATATGAATAAAGATAGATGATATTGCAGAGTTTGGAATAGAAAGAAGGGTTGGGGGGTCCTACTATATATATGTAATGTCTATGAGTATCAGTCCTTGTGTATGTTTCGAAGAATGGTTCCAGAATACGATTTAATAGTTAATAGAATAAAAAGTGCAGGTGGTTTACGTTATGGAAGAAACAAAAGTATATGTTATTTACTAGTTAGATAGGAATTATCCCTATCTCTTTTTTTCTAGCCAACTTCATTTATATGGATTACAATATCAGTCCTTTTTCTATTTTTTCTGTGATTGTTAATTGAATGAAAGAATAGAAGAGTTTATAAACAAGAAAACACAATGACTAAAACCGTTTACATAAAACTCCATCATGGGTAGAAAGAAAGGAAAAACGGTATACGGTATATGGAAGTAGTTCTGAAAATTCAATAATATTCTGTTGGAGTTTTTAGCTACTTCGACCCGATAGATTTTAGTGATAAGGGTCAATCAAAAAGAAAATAAATAAAAAAATAAGTAAGTAAAATAAGTTTAAGTAAAGTAAAAAAGTAGTGTAGTAAAGTAAATAGTCAAAGTAAAAGTAGAAGTATAAAAAGAAGTAGATAAAGATTAAGTAGTAATTCATTGGTTGGTTGTATCATTAACCATTTCTTTCTTTTGGACGAGGAAAT\n"
     ]
    }
   ],
   "source": [
    "from Bio.Seq import Seq\n",
    "seq = list(SeqIO.parse(\"Cypripedium_japonicum.fasta\",\"fasta\"))[0]\n",
    "print(type(seq))\n",
    "print(seq.id)\n",
    "print(seq.seq)\n"
   ]
  },
  {
   "cell_type": "code",
   "execution_count": 44,
   "metadata": {
    "collapsed": true,
    "jupyter": {
     "outputs_hidden": true
    },
    "tags": []
   },
   "outputs": [
    {
     "name": "stdout",
     "output_type": "stream",
     "text": [
      "TATGATTATG\n",
      "GTATTAGTAT\n",
      "GTATTAGTAT\n",
      "2\n",
      "AUACUAAUAC\n",
      "ILI\n",
      "ATACTAATAC\n"
     ]
    },
    {
     "name": "stderr",
     "output_type": "stream",
     "text": [
      "/Users/xutingfeng/opt/anaconda3/envs/RNASeq/lib/python3.7/site-packages/Bio/Seq.py:2983: BiopythonWarning: Partial codon, len(sequence) not a multiple of three. Explicitly trim the sequence or add trailing N before translation. This may become an error in future.\n",
      "  BiopythonWarning,\n"
     ]
    }
   ],
   "source": [
    "seq = Seq(\"ATACTAATAC\")\n",
    "\n",
    "#可以计算反向互补序列\n",
    "complement = seq.complement()\n",
    "print(complement)\n",
    "reverse_complement = complement[::-1]\n",
    "print(reverse_complement)\n",
    "\n",
    "#直接调用\n",
    "reverse_complement = seq.reverse_complement()\n",
    "print(reverse_complement)\n",
    "\n",
    "C_content = seq.count(\"C\")\n",
    "print(C_content)\n",
    "\n",
    "#DNA转录和翻译的序列结果\n",
    "rna_seq = seq.transcribe()\n",
    "protein_seq = seq.translate()\n",
    "print(rna_seq)\n",
    "print(protein_seq)\n",
    "\n",
    "#RNA转成对应的编码链的序列\n",
    "print(rna_seq.back_transcribe())\n"
   ]
  },
  {
   "cell_type": "markdown",
   "metadata": {},
   "source": [
    "在使用的时候需要注意到模板链和编码链的区别\n",
    "\n",
    "在biopython中，我们需要搞明白我们手中的序列是编码链还是模板链\n",
    "\n",
    "默认序列从左到右是5到3端的\n",
    "\n",
    "`transcribe()`只是把给定的序列中的t变成u，因此如果给定的序列是编码链，直接调用`transcribe()`就可以。而对于模板链则需要通过`reverse_complement()`获取对应的编码链的序列才行\n",
    "\n",
    "RNA也可以用`back_transcribe()`获得对应的编码序列，其实就是把U换成T。"
   ]
  },
  {
   "cell_type": "code",
   "execution_count": 60,
   "metadata": {},
   "outputs": [
    {
     "name": "stdout",
     "output_type": "stream",
     "text": [
      "编码链：ATGGCCATTGTAATGGGCCGCTGAAAGGGTGCCCGATAG \n",
      "转录后的rna：AUGGCCAUUGUAAUGGGCCGCUGAAAGGGUGCCCGAUAG\n",
      "如果给的是模板链\n",
      "模板链：CTATCGGGCACCCTTTCAGCGGCCCATTACAATGGCCAT\n",
      "编码的RNA：AUGGCCAUUGUAAUGGGCCGCUGAAAGGGUGCCCGAUAG\n",
      "RNA：AUGGCCAUUGUAAUGGGCCGCUGAAAGGGUGCCCGAUAG\n",
      "coding：ATGGCCATTGTAATGGGCCGCTGAAAGGGTGCCCGATAG\n"
     ]
    }
   ],
   "source": [
    "#编码链\n",
    "coding_dna = Seq(\"ATGGCCATTGTAATGGGCCGCTGAAAGGGTGCCCGATAG\")\n",
    "#获取对应编码的rna\n",
    "rna = coding_dna.transcribe()\n",
    "print(f\"编码链：{coding_dna} \\n转录后的rna：{rna}\")\n",
    "\n",
    "print(\"如果给的是模板链\")\n",
    "\n",
    "#给的模板链，仍然是从5端到3端，从这里转录获得对应的编码链\n",
    "template_dna = coding_dna.reverse_complement()\n",
    "rna = template_dna.reverse_complement().transcribe()\n",
    "print(f\"模板链：{template_dna}\\n编码的RNA：{rna}\")\n",
    "\n",
    "#如果给的是mRNA，也可以获得对应的序列\n",
    "print(f\"RNA：{rna}\")\n",
    "print(f\"coding：{rna.back_transcribe()}\")"
   ]
  },
  {
   "cell_type": "markdown",
   "metadata": {},
   "source": [
    "除了可以进行\"转录\"，还可以进行“翻译”\n",
    "\n",
    "`translate()`方法可以获取对应的编码链编码的蛋白质序列。\n",
    "\n",
    "- 可以通过添加Table，来指定使用的翻译表，也就是遗传密码。`Table = 2`表示使用来自[NCBI的遗传密码表](https://www.ncbi.nlm.nih.gov/Taxonomy/Utils/wprintgc.cgi)中的第二个，也可以指定名称"
   ]
  },
  {
   "cell_type": "code",
   "execution_count": 65,
   "metadata": {},
   "outputs": [
    {
     "name": "stdout",
     "output_type": "stream",
     "text": [
      "编码链：ATGGCCATTGTAATGGGCCGCTGAAAGGGTGCCCGATAG\n",
      "直接获取翻译的蛋白质序列：MAIVMGR*KGAR*\n",
      "使用线粒体中的遗传密码表获得的蛋白质序列：MAIVMGRWKGAR*\n",
      "遇到第一个密码子就停止翻译的蛋白质序列，不会输出终止符：MAIVMGR\n",
      "自定义终止符进行翻译：MAIVMGR&KGAR&\n"
     ]
    }
   ],
   "source": [
    "coding_dna = Seq(\"ATGGCCATTGTAATGGGCCGCTGAAAGGGTGCCCGATAG\")\n",
    "print(f\"编码链：{coding_dna}\")\n",
    "protein = coding_dna.translate()\n",
    "print(f\"直接获取翻译的蛋白质序列：{protein}\")\n",
    "#可以看到有两个终止符在里面\n",
    "#如果我们告诉它这个序列是线粒体的序列，使用线粒体中常用的一套遗传密码\n",
    "protein = coding_dna.translate(table=\"Vertebrate Mitochondrial\")\n",
    "print(f\"使用线粒体中的遗传密码表获得的蛋白质序列：{protein}\")\n",
    "\n",
    "protein = coding_dna.translate(to_stop=True)\n",
    "print(f\"遇到第一个密码子就停止翻译的蛋白质序列，不会输出终止符：{protein}\")\n",
    "\n",
    "protein = coding_dna.translate(stop_symbol=\"&\")\n",
    "print(f\"自定义终止符进行翻译：{protein}\")"
   ]
  },
  {
   "cell_type": "code",
   "execution_count": 67,
   "metadata": {},
   "outputs": [
    {
     "name": "stdout",
     "output_type": "stream",
     "text": [
      "Table 2 Vertebrate Mitochondrial, SGC1\n",
      "\n",
      "  |  T      |  C      |  A      |  G      |\n",
      "--+---------+---------+---------+---------+--\n",
      "T | TTT F   | TCT S   | TAT Y   | TGT C   | T\n",
      "T | TTC F   | TCC S   | TAC Y   | TGC C   | C\n",
      "T | TTA L   | TCA S   | TAA Stop| TGA W   | A\n",
      "T | TTG L   | TCG S   | TAG Stop| TGG W   | G\n",
      "--+---------+---------+---------+---------+--\n",
      "C | CTT L   | CCT P   | CAT H   | CGT R   | T\n",
      "C | CTC L   | CCC P   | CAC H   | CGC R   | C\n",
      "C | CTA L   | CCA P   | CAA Q   | CGA R   | A\n",
      "C | CTG L   | CCG P   | CAG Q   | CGG R   | G\n",
      "--+---------+---------+---------+---------+--\n",
      "A | ATT I(s)| ACT T   | AAT N   | AGT S   | T\n",
      "A | ATC I(s)| ACC T   | AAC N   | AGC S   | C\n",
      "A | ATA M(s)| ACA T   | AAA K   | AGA Stop| A\n",
      "A | ATG M(s)| ACG T   | AAG K   | AGG Stop| G\n",
      "--+---------+---------+---------+---------+--\n",
      "G | GTT V   | GCT A   | GAT D   | GGT G   | T\n",
      "G | GTC V   | GCC A   | GAC D   | GGC G   | C\n",
      "G | GTA V   | GCA A   | GAA E   | GGA G   | A\n",
      "G | GTG V(s)| GCG A   | GAG E   | GGG G   | G\n",
      "--+---------+---------+---------+---------+--\n"
     ]
    }
   ],
   "source": [
    "# 当然也可以获取这些表格\n",
    "from Bio.Data import CodonTable\n",
    "\n",
    "standard_table = CodonTable.unambiguous_dna_by_name[\"Standard\"]\n",
    "mito_table = CodonTable.unambiguous_dna_by_name[\"Vertebrate Mitochondrial\"]\n",
    "print(mito_table)"
   ]
  },
  {
   "cell_type": "code",
   "execution_count": 68,
   "metadata": {},
   "outputs": [],
   "source": [
    "#也可以通过索引获得\n",
    "from Bio.Data import CodonTable\n",
    "standard_table = CodonTable.unambiguous_dna_by_id[1]\n",
    "mito_table = CodonTable.unambiguous_dna_by_id[2]"
   ]
  },
  {
   "cell_type": "code",
   "execution_count": 90,
   "metadata": {},
   "outputs": [
    {
     "name": "stdout",
     "output_type": "stream",
     "text": [
      "Vertebrate Mitochondrial中的终止密码子：['TAA', 'TAG', 'AGA', 'AGG']\n",
      "Vertebrate Mitochondrial中的起始密码子：['ATT', 'ATC', 'ATA', 'ATG', 'GTG']\n",
      "Vertebrate Mitochondrial中的碱基类型：GATC\n",
      "Vertebrate Mitochondrial中翻译产生的氨基酸表：ACDEFGHIKLMNPQRSTVWY\n",
      "TTT密码子编码F\n",
      "编码F即苯丙氨酸的密码子有：TTT\n"
     ]
    }
   ],
   "source": [
    "print(f\"Vertebrate Mitochondrial中的终止密码子：{mito_table.stop_codons}\")\n",
    "print(f\"Vertebrate Mitochondrial中的起始密码子：{mito_table.start_codons}\")\n",
    "#查阅对应的aa和nucleotide的表\n",
    "print(f\"Vertebrate Mitochondrial中的碱基类型：{mito_table.nucleotide_alphabet}\")\n",
    "print(f\"Vertebrate Mitochondrial中翻译产生的氨基酸表：{mito_table.protein_alphabet}\")\n",
    "#也可以直接根据密码子去查询对应的氨基酸，如TTT编码F，苯丙氨酸\n",
    "## forward_table表示正向查询密码子编码的氨基酸\n",
    "TTT = mito_table.forward_table[\"TTT\"]\n",
    "print(f\"TTT密码子编码{TTT}\")\n",
    "F = mito_table.back_table[\"F\"]\n",
    "print(f\"编码F即苯丙氨酸的密码子有：{F}\")"
   ]
  },
  {
   "cell_type": "code",
   "execution_count": null,
   "metadata": {},
   "outputs": [],
   "source": []
  },
  {
   "cell_type": "code",
   "execution_count": null,
   "metadata": {},
   "outputs": [],
   "source": []
  },
  {
   "cell_type": "markdown",
   "metadata": {},
   "source": [
    "读入genbank格式的数据"
   ]
  },
  {
   "cell_type": "code",
   "execution_count": 4,
   "metadata": {},
   "outputs": [
    {
     "name": "stdout",
     "output_type": "stream",
     "text": [
      "JF797156.1\n",
      "Seq('CGGCTTATATAGGTGAATCCATGGAGGGTCATCATTGACTAACTTTCGAAATAG...AAT')\n",
      "828\n"
     ]
    }
   ],
   "source": [
    "from Bio import SeqIO\n",
    "for seq_record in SeqIO.parse(\"Cypripedium_japonicum.gb\",\"genbank\"):\n",
    "    print(seq_record.id)\n",
    "    print(repr(seq_record.seq))\n",
    "    print(len(seq_record))\n",
    "    break"
   ]
  },
  {
   "cell_type": "code",
   "execution_count": null,
   "metadata": {},
   "outputs": [],
   "source": []
  }
 ],
 "metadata": {
  "kernelspec": {
   "display_name": "RNASeq",
   "language": "python",
   "name": "rnaseq"
  },
  "language_info": {
   "codemirror_mode": {
    "name": "ipython",
    "version": 3
   },
   "file_extension": ".py",
   "mimetype": "text/x-python",
   "name": "python",
   "nbconvert_exporter": "python",
   "pygments_lexer": "ipython3",
   "version": "3.7.10"
  }
 },
 "nbformat": 4,
 "nbformat_minor": 4
}
